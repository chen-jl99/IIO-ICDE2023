{
 "cells": [
  {
   "cell_type": "code",
   "execution_count": null,
   "id": "c9ee2d21-dc54-4e75-9a51-af51eb111051",
   "metadata": {},
   "outputs": [],
   "source": [
    "!pip install pulp"
   ]
  },
  {
   "cell_type": "code",
   "execution_count": null,
   "id": "887841e9-db96-4660-a2ca-45c63d81f6b3",
   "metadata": {},
   "outputs": [],
   "source": [
    "import numpy as np\n",
    "import pandas as pd\n",
    "import math\n",
    "import random\n",
    "import csv\n",
    "\n",
    "import pulp as pp\n",
    "\n",
    "from params import *\n",
    "from functions import *\n",
    "\n",
    "import os\n",
    "os.makedirs('results/', exist_ok = True) "
   ]
  },
  {
   "cell_type": "code",
   "execution_count": null,
   "id": "25541b81-ae1b-403b-b028-bd5b88089d29",
   "metadata": {},
   "outputs": [],
   "source": [
    "results_SEP = pd.read_csv('results/results_online_SEP.txt', header = None)\n",
    "results_SHR = pd.read_csv('results/results_online_SHR.txt', header = None)\n",
    "results_SHR_CLUSTER = pd.read_csv('results/results_online_SHR_CLUSTER.txt', header = None)\n",
    "results_SHR_ROBUST = pd.read_csv('results/results_online_SHR_ROBUST.txt', header = None)\n",
    "results_SHR_FULL = pd.read_csv('results/results_online_SHR_FULL.txt', header = None)"
   ]
  },
  {
   "cell_type": "code",
   "execution_count": null,
   "id": "1705392d-b986-43eb-af50-aa81b2ce4b2e",
   "metadata": {},
   "outputs": [],
   "source": [
    "f = open('results/results_online_OPTIMAL.txt', 'w+')\n",
    "f_null = open('results/results_online_NULL.txt', 'w+')\n",
    "\n",
    "for SEED in range(0,10):\n",
    "\n",
    "    set_seed(SEED)\n",
    "    data_incoming = pd.read_pickle(f'data/data_incoming_{SEED}.pickle')\n",
    "    \n",
    "    N_incoming = max(max(results_SEP[results_SEP[0] == SEED][4]), \n",
    "                     results_SHR[3][SEED], results_SHR_CLUSTER[3][SEED], \n",
    "                     results_SHR_ROBUST[3][SEED], \n",
    "                     results_SHR_FULL[3][SEED])\n",
    "    \n",
    "    objective_vector = np.zeros(N_incoming*len(passenger_incentive_list)*len(driver_incentive_list))\n",
    "    budget_vector = np.zeros(N_incoming*len(passenger_incentive_list)*len(driver_incentive_list))\n",
    "    \n",
    "    # decision variable\n",
    "    x = [pp.LpVariable(f'x{i}',cat='Binary') for i in range(0, N_incoming*len(passenger_incentive_list)*len(driver_incentive_list))]\n",
    "    x_null = np.zeros(N_incoming*len(passenger_incentive_list)*len(driver_incentive_list))\n",
    "    m = pp.LpProblem(sense=pp.LpMaximize)\n",
    "    \n",
    "    k = 0\n",
    "    \n",
    "    for n in range(0,N_incoming):\n",
    "\n",
    "        fare = data_incoming.loc[n, 'fare']\n",
    "        compensation = data_incoming.loc[n, 'compensation']\n",
    "        \n",
    "        m += (pp.lpSum(x[k:k+len(passenger_incentive_list)*len(driver_incentive_list)]) == 1)\n",
    "        \n",
    "        for i in range(0, len(passenger_incentive_list)):\n",
    "            for j in range(0, len(driver_incentive_list)):\n",
    "                \n",
    "                if (i == 0 and j == 0):\n",
    "                    x_null[k] = 1\n",
    "                \n",
    "                # treat the underlying true probability as input\n",
    "                true_prob = data_incoming.loc[n, f'true_prob_{i}_{j}']\n",
    "                objective_vector[k] = true_prob\n",
    "                budget_vector[k] = true_prob * (fare*passenger_incentive_list[i] + compensation*driver_incentive_list[j])\n",
    "                \n",
    "                if (fare*(1-passenger_incentive_list[i]) < compensation*(1+driver_incentive_list[j])):\n",
    "                    m += (x[k] == 0)\n",
    "                    \n",
    "                k += 1\n",
    "\n",
    "    m += pp.lpDot(objective_vector,x)\n",
    "    m += (pp.lpDot(budget_vector,x) <= B)\n",
    "    \n",
    "    # obtain the optimal solution\n",
    "    m.solve()\n",
    "    \n",
    "    f.write(f'{SEED}, OPTIMAL, {pp.value(pp.lpDot(objective_vector,x))}\\n')\n",
    "    f_null.write(f'{SEED}, NULL, {np.dot(objective_vector,x_null)}\\n')\n",
    "    \n",
    "f.close()\n",
    "f_null.close()"
   ]
  }
 ],
 "metadata": {
  "kernelspec": {
   "display_name": "Python 3",
   "language": "python",
   "name": "python3"
  },
  "language_info": {
   "codemirror_mode": {
    "name": "ipython",
    "version": 3
   },
   "file_extension": ".py",
   "mimetype": "text/x-python",
   "name": "python",
   "nbconvert_exporter": "python",
   "pygments_lexer": "ipython3",
   "version": "3.6.13"
  }
 },
 "nbformat": 4,
 "nbformat_minor": 5
}
