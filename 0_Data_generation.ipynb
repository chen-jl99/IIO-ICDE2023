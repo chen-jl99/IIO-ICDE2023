{
 "cells": [
  {
   "cell_type": "code",
   "execution_count": 1,
   "id": "52e484b6-860f-4845-bbad-42feb52ae209",
   "metadata": {},
   "outputs": [],
   "source": [
    "# This notebook is used to generate random demo data, generate the simulator, fit the prediction model\n",
    "# In the real numerical experiment, we use the true feature as input, instead of the demo data generated in this notebook"
   ]
  },
  {
   "cell_type": "code",
   "execution_count": 2,
   "id": "7082785e-cff5-4ef2-80ce-8e9fa3a3bcc9",
   "metadata": {
    "executionInfo": {
     "elapsed": 528,
     "status": "ok",
     "timestamp": 1653877674146,
     "user": {
      "displayName": "Junlin Chen",
      "userId": "04548097444605488042"
     },
     "user_tz": -480
    },
    "id": "7082785e-cff5-4ef2-80ce-8e9fa3a3bcc9"
   },
   "outputs": [],
   "source": [
    "import numpy as np\n",
    "import pandas as pd\n",
    "import math\n",
    "import random\n",
    "from sklearn.linear_model import LogisticRegression\n",
    "\n",
    "from params import *\n",
    "from functions import *\n",
    "\n",
    "import os\n",
    "os.makedirs('data/', exist_ok = False) "
   ]
  },
  {
   "cell_type": "code",
   "execution_count": 3,
   "id": "161d4d1d-989c-414f-a88f-f53ff1db2424",
   "metadata": {},
   "outputs": [],
   "source": [
    "# simulate feature\n",
    "def feature_simulator():\n",
    "    \n",
    "    total_distance = np.random.uniform(1,20)\n",
    "    fare = np.random.uniform(2,4) * total_distance\n",
    "    compensation = np.random.uniform(0.7,0.9) * fare\n",
    "    \n",
    "    return total_distance, fare, compensation"
   ]
  },
  {
   "cell_type": "code",
   "execution_count": 4,
   "id": "bdf1d682-76a0-49e2-90a1-8fc6099f9a49",
   "metadata": {},
   "outputs": [],
   "source": [
    "# simulate underlying true probability for training data\n",
    "def prob_simulator_1(feature):\n",
    "    \n",
    "    beta_1 = [4.0, 0, 0.05, -0.05, 0]\n",
    "    beta_2 = [0, 3.0, 0.02, 0, 0.05]\n",
    "    prob_1 = 1 / (1 + math.exp(np.random.uniform(-1.5,-1) - np.dot(beta_1, feature)))\n",
    "    prob_2 = 1 / (1 + math.exp(np.random.uniform(3,3.5) - np.dot(beta_2, feature)))\n",
    "                  \n",
    "    return prob_1 * prob_2"
   ]
  },
  {
   "cell_type": "code",
   "execution_count": 5,
   "id": "51dd5e48-246e-4e7f-a1a9-e1bc8541c06e",
   "metadata": {},
   "outputs": [
    {
     "name": "stdout",
     "output_type": "stream",
     "text": [
      "0.1088 [[ 1.59414062  2.10553869  0.07794291 -0.03815195  0.04777697]]\n"
     ]
    }
   ],
   "source": [
    "# generate training data and fit the prediction model\n",
    "SEED_TRAIN = 42\n",
    "set_seed(SEED_TRAIN)\n",
    "\n",
    "x_train = np.zeros((N_train,num_feature + 2))\n",
    "y_train = np.zeros(N_train)\n",
    "\n",
    "for n in range(0, N_train):\n",
    "\n",
    "    # randomly generate other features\n",
    "    total_distance, fare, compensation = feature_simulator()\n",
    "    \n",
    "    # randomly select passenger incentive level as the given incentive\n",
    "    i = random.choice(range(0, len(passenger_incentive_list)))\n",
    "    passenger_incentive = passenger_incentive_list[i]\n",
    "    \n",
    "    # randomly select driver incentive level as the given incentive\n",
    "    j = random.choice(range(0, len(driver_incentive_list)))\n",
    "    driver_incentive = driver_incentive_list[j]\n",
    "\n",
    "    x_train[n,:] = [passenger_incentive, driver_incentive, total_distance, fare, compensation]\n",
    "    true_prob = prob_simulator_1([passenger_incentive, driver_incentive, total_distance, fare, compensation])\n",
    "    \n",
    "    # simulate label according to the probability given by the simulator\n",
    "    y_train[n] = np.random.choice([0,1], size=1, p=[1-true_prob, true_prob])[0]\n",
    "\n",
    "# fit the prediction model\n",
    "model = LogisticRegression(fit_intercept = True, random_state = SEED_TRAIN)\n",
    "model.fit(x_train,y_train)\n",
    "print(sum(y_train)/N_train,model.coef_)"
   ]
  },
  {
   "cell_type": "code",
   "execution_count": 6,
   "id": "6c29549a-b9c2-42ef-9e2e-9f0498cd1473",
   "metadata": {},
   "outputs": [],
   "source": [
    "# predicted probability\n",
    "def prob_prediction(feature):\n",
    "    return model.predict_proba(np.array(feature).reshape(1,-1))[0,1]\n",
    "\n",
    "# simulate underlying true probability for other data\n",
    "def prob_simulator_2(feature):\n",
    "    \n",
    "    beta_1 = [4.0, 0, 0.05, -0.05, 0]\n",
    "    beta_2 = [0, 3.0, 0.02, 0, 0.05]\n",
    "    prob_1 = 1 / (1 + math.exp(np.random.uniform(-2,-1.5) - np.dot(beta_1, feature)))\n",
    "    prob_2 = 1 / (1 + math.exp(np.random.uniform(2.5,3) - np.dot(beta_2, feature)))\n",
    "                  \n",
    "    return prob_1 * prob_2"
   ]
  },
  {
   "cell_type": "code",
   "execution_count": null,
   "id": "5e657827-d41c-4af5-a499-a3f6e03db3ae",
   "metadata": {},
   "outputs": [],
   "source": [
    "# generate and save historical data and incoming data, repeated 10 times\n",
    "for SEED in range(0,10):\n",
    "    \n",
    "    # generate historical data\n",
    "    data_hist = pd.DataFrame()\n",
    "\n",
    "    for n in range(0, N_hist):\n",
    "        \n",
    "        # randomly generate other features\n",
    "        total_distance, fare, compensation = feature_simulator()\n",
    "        \n",
    "        data_hist.loc[n, 'total_distance'] = total_distance\n",
    "        data_hist.loc[n, 'fare'] = fare\n",
    "        data_hist.loc[n, 'compensation'] = compensation\n",
    "        \n",
    "        for i in range(0, len(passenger_incentive_list)):\n",
    "            for j in range(0, len(driver_incentive_list)):\n",
    "                \n",
    "                passenger_incentive = passenger_incentive_list[i]\n",
    "                driver_incentive = driver_incentive_list[j]\n",
    "                \n",
    "                true_prob = prob_simulator_2([passenger_incentive, driver_incentive, total_distance, fare, compensation])\n",
    "                true_label = np.random.choice([0,1], size=1, p=[1-true_prob, true_prob])[0]\n",
    "                pred_prob = prob_prediction([passenger_incentive, driver_incentive, total_distance, fare, compensation])\n",
    "                \n",
    "                data_hist.loc[n, f'true_prob_{i}_{j}']  = true_prob\n",
    "                data_hist.loc[n, f'true_label_{i}_{j}'] = true_label\n",
    "                data_hist.loc[n, f'pred_prob_{i}_{j}'] = pred_prob\n",
    "                \n",
    "        # randomly select passenger incentive level as the given incentive\n",
    "        i = random.choice(range(0, len(passenger_incentive_list)))\n",
    "        passenger_incentive = passenger_incentive_list[i]\n",
    "\n",
    "        # randomly select driver incentive level as the given incentive\n",
    "        j = random.choice(range(0, len(driver_incentive_list)))\n",
    "        driver_incentive = driver_incentive_list[j]\n",
    "        \n",
    "        data_hist.loc[n, 'passenger_incentive'] = passenger_incentive\n",
    "        data_hist.loc[n, 'driver_incentive'] = driver_incentive\n",
    "        \n",
    "    data_hist.to_pickle(f'data/data_hist_{SEED}.pickle')\n",
    "    \n",
    "    # generate incoming data\n",
    "    data_incoming = pd.DataFrame()\n",
    "\n",
    "    for n in range(0, N_incoming):\n",
    "        \n",
    "        # randomly generate other features\n",
    "        total_distance, fare, compensation = feature_simulator()\n",
    "        \n",
    "        data_incoming.loc[n, 'total_distance'] = total_distance\n",
    "        data_incoming.loc[n, 'fare'] = fare\n",
    "        data_incoming.loc[n, 'compensation'] = compensation\n",
    "        \n",
    "        for i in range(0, len(passenger_incentive_list)):\n",
    "            for j in range(0, len(driver_incentive_list)):\n",
    "                \n",
    "                passenger_incentive = passenger_incentive_list[i]\n",
    "                driver_incentive = driver_incentive_list[j]\n",
    "                \n",
    "                true_prob = prob_simulator_2([passenger_incentive, driver_incentive, total_distance, fare, compensation])\n",
    "                true_label = np.random.choice([0,1], size=1, p=[1-true_prob, true_prob])[0]\n",
    "                pred_prob = prob_prediction([passenger_incentive, driver_incentive, total_distance, fare, compensation])\n",
    "                \n",
    "                data_incoming.loc[n, f'true_prob_{i}_{j}']  = true_prob\n",
    "                data_incoming.loc[n, f'true_label_{i}_{j}'] = true_label\n",
    "                data_incoming.loc[n, f'pred_prob_{i}_{j}'] = pred_prob\n",
    "        \n",
    "    data_incoming.to_pickle(f'data/data_incoming_{SEED}.pickle')"
   ]
  }
 ],
 "metadata": {
  "colab": {
   "collapsed_sections": [],
   "name": "All_demo_direct_0530_deg.ipynb",
   "provenance": [
    {
     "file_id": "1m9oOZ2Mf3R2AwJrsCPG_PpvGkhuDdBhP",
     "timestamp": 1653115203881
    }
   ]
  },
  "kernelspec": {
   "display_name": "Python 3",
   "language": "python",
   "name": "python3"
  },
  "language_info": {
   "codemirror_mode": {
    "name": "ipython",
    "version": 3
   },
   "file_extension": ".py",
   "mimetype": "text/x-python",
   "name": "python",
   "nbconvert_exporter": "python",
   "pygments_lexer": "ipython3",
   "version": "3.6.13"
  }
 },
 "nbformat": 4,
 "nbformat_minor": 5
}
