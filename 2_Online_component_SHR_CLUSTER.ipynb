{
 "cells": [
  {
   "cell_type": "code",
   "execution_count": 1,
   "id": "7082785e-cff5-4ef2-80ce-8e9fa3a3bcc9",
   "metadata": {
    "executionInfo": {
     "elapsed": 528,
     "status": "ok",
     "timestamp": 1653877674146,
     "user": {
      "displayName": "Junlin Chen",
      "userId": "04548097444605488042"
     },
     "user_tz": -480
    },
    "id": "7082785e-cff5-4ef2-80ce-8e9fa3a3bcc9"
   },
   "outputs": [],
   "source": [
    "import numpy as np\n",
    "import pandas as pd\n",
    "import math\n",
    "import random\n",
    "import csv\n",
    "\n",
    "import pickle\n",
    "\n",
    "from sklearn.cluster import KMeans\n",
    "from sklearn.preprocessing import MinMaxScaler\n",
    "from sklearn.metrics.pairwise import pairwise_kernels\n",
    "\n",
    "from params import *\n",
    "from functions import *"
   ]
  },
  {
   "cell_type": "code",
   "execution_count": 2,
   "id": "51dd5e48-246e-4e7f-a1a9-e1bc8541c06e",
   "metadata": {},
   "outputs": [],
   "source": [
    "f = open('results/results_online_SHR_CLUSTER.txt', 'w+')\n",
    "\n",
    "for SEED in range(0,10):\n",
    "\n",
    "    set_seed(SEED)\n",
    "    data_incoming = pd.read_pickle(f'data/data_incoming_{SEED}.pickle')\n",
    "    lambda_h, scaler, feature_cluster_list, error_cluster_list, size_cluster_list = pickle.load(open(f'results/results_offline_SHR_CLUSTER_{SEED}.pickle','rb'))\n",
    "\n",
    "    objective_function_true_total = 0\n",
    "    remaining_budget = B\n",
    "    \n",
    "    uncover_set = set()\n",
    "    \n",
    "    for n in range(0,N_incoming):\n",
    "\n",
    "        fare = data_incoming.loc[n, 'fare']\n",
    "        compensation = data_incoming.loc[n, 'compensation']\n",
    "        \n",
    "        feature = data_incoming.loc[n, feature_name].values\n",
    "        kernel = pairwise_kernels(feature_cluster_list, scaler.transform(np.array(feature).reshape(1, -1)), metric='rbf', gamma=gamma).flatten()\n",
    "        error = np.sum(kernel*size_cluster_list*error_cluster_list)/np.sum(kernel*size_cluster_list)      \n",
    "        \n",
    "        l_best = -np.inf\n",
    "        i_best = 0\n",
    "        j_best = 0\n",
    "\n",
    "        for i in range(0, len(passenger_incentive_list)):\n",
    "            for j in range(0, len(driver_incentive_list)):\n",
    "                \n",
    "                pred_prob = data_incoming.loc[n, f'pred_prob_{i}_{j}'] + error\n",
    "                \n",
    "                if (fare*passenger_incentive_list[i]+compensation*driver_incentive_list[j] > remaining_budget):\n",
    "                    uncover_set.add(n)\n",
    "                \n",
    "                if (fare*passenger_incentive_list[i]+compensation*driver_incentive_list[j] <= remaining_budget and eta*fare*(1-passenger_incentive_list[i]) < compensation*(1+driver_incentive_list[j])):\n",
    "                    l_current = pred_prob-lambda_h*pred_prob*(fare*passenger_incentive_list[i]+compensation*driver_incentive_list[j])\n",
    "                    if (l_current > l_best):\n",
    "                        l_best = l_current\n",
    "                        i_best = i\n",
    "                        j_best = j\n",
    "            \n",
    "        objective_function_true_total += data_incoming.loc[n, f'true_prob_{i_best}_{j_best}']\n",
    "        remaining_budget -= data_incoming.loc[n, f'true_prob_{i_best}_{j_best}'] * (fare*passenger_incentive_list[i_best]+compensation*driver_incentive_list[j_best])\n",
    "\n",
    "    f.write(f'{SEED}, SHR-CLUSTER, {objective_function_true_total}, {1-len(uncover_set)/N_incoming}\\n')\n",
    "    \n",
    "f.close()"
   ]
  }
 ],
 "metadata": {
  "colab": {
   "collapsed_sections": [],
   "name": "All_demo_direct_0530_deg.ipynb",
   "provenance": [
    {
     "file_id": "1m9oOZ2Mf3R2AwJrsCPG_PpvGkhuDdBhP",
     "timestamp": 1653115203881
    }
   ]
  },
  "kernelspec": {
   "display_name": "Python 3",
   "language": "python",
   "name": "python3"
  },
  "language_info": {
   "codemirror_mode": {
    "name": "ipython",
    "version": 3
   },
   "file_extension": ".py",
   "mimetype": "text/x-python",
   "name": "python",
   "nbconvert_exporter": "python",
   "pygments_lexer": "ipython3",
   "version": "3.6.13"
  }
 },
 "nbformat": 4,
 "nbformat_minor": 5
}
