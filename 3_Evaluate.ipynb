{
 "cells": [
  {
   "cell_type": "code",
   "execution_count": null,
   "id": "13e12a53-9f6d-4524-9ee6-fd877f7fa49f",
   "metadata": {},
   "outputs": [],
   "source": [
    "import numpy as np\n",
    "import pandas as pd\n",
    "\n",
    "from params import *"
   ]
  },
  {
   "cell_type": "code",
   "execution_count": null,
   "id": "0133d96d-fde3-42eb-bfa9-bfdf3afbafbd",
   "metadata": {},
   "outputs": [],
   "source": [
    "results_NULL = pd.read_csv('results/results_online_NULL.txt', header = None)\n",
    "results_OPTIMAL = pd.read_csv('results/results_online_OPTIMAL.txt', header = None)\n",
    "results_SEP = pd.read_csv('results/results_online_SEP.txt', header = None)\n",
    "results_SHR = pd.read_csv('results/results_online_SHR.txt', header = None)\n",
    "results_SHR_CLUSTER = pd.read_csv('results/results_online_SHR_CLUSTER.txt', header = None)\n",
    "results_SHR_ROBUST = pd.read_csv('results/results_online_SHR_ROBUST.txt', header = None)\n",
    "results_SHR_FULL = pd.read_csv('results/results_online_SHR_FULL.txt', header = None)"
   ]
  },
  {
   "cell_type": "code",
   "execution_count": null,
   "id": "cdc6ea34-2519-4b80-8700-292b7f977bb9",
   "metadata": {},
   "outputs": [],
   "source": [
    "# compare the objective functions\n",
    "\n",
    "for passenger_percentage in [0, 0.2, 0.4, 0.6, 0.8, 1]:\n",
    "    print(f'SEP (passenger percentage {passenger_percentage})', np.mean(results_NULL[2] + results_SEP[results_SEP[2]==passenger_percentage][3]))\n",
    "    \n",
    "print('SHR', np.mean(results_NULL[2] + results_SHR[2]))\n",
    "print('SHR-CLUSTER', np.mean(results_NULL[2] + results_SHR_CLUSTER[2]))\n",
    "print('SHR-ROBUST', np.mean(results_NULL[2] + results_SHR_ROBUST[2]))\n",
    "print('SHR-FULL', np.mean(results_NULL[2] + results_SHR_FULL[2]))"
   ]
  },
  {
   "cell_type": "code",
   "execution_count": null,
   "id": "20112ffd-e390-4af3-8851-ca37e9ddb73f",
   "metadata": {},
   "outputs": [],
   "source": [
    "# compare the decision error\n",
    "\n",
    "print('SHR', np.mean(1-(results_NULL[2]+results_SHR[2])/results_OPTIMAL[2]))\n",
    "print('SHR-CLUSTER', np.mean(1-(results_NULL[2]+results_SHR_CLUSTER[2])/results_OPTIMAL[2]))\n",
    "print('SHR-ROBUST', np.mean(1-(results_NULL[2]+results_SHR_ROBUST[2])/results_OPTIMAL[2]))\n",
    "print('SHR-FULL', np.mean(1-(results_NULL[2]+results_SHR_FULL[2])/results_OPTIMAL[2]))"
   ]
  },
  {
   "cell_type": "code",
   "execution_count": null,
   "id": "4a3ff7fe-c73a-4674-aabd-b909d52f9d6d",
   "metadata": {},
   "outputs": [],
   "source": [
    "# compare the coverage percentage\n",
    "\n",
    "print('SHR', np.mean(np.minimum(1, results_SHR[3] / N_incoming)))\n",
    "print('SHR-CLUSTER', np.mean(np.minimum(1, results_SHR_CLUSTER[3] / N_incoming)))\n",
    "print('SHR-ROBUST', np.mean(np.minimum(1, results_SHR_ROBUST[3] / N_incoming)))\n",
    "print('SHR-FULL', np.mean(np.minimum(1, results_SHR_FULL[3] / N_incoming)))"
   ]
  }
 ],
 "metadata": {
  "kernelspec": {
   "display_name": "Python 3",
   "language": "python",
   "name": "python3"
  },
  "language_info": {
   "codemirror_mode": {
    "name": "ipython",
    "version": 3
   },
   "file_extension": ".py",
   "mimetype": "text/x-python",
   "name": "python",
   "nbconvert_exporter": "python",
   "pygments_lexer": "ipython3",
   "version": "3.6.13"
  }
 },
 "nbformat": 4,
 "nbformat_minor": 5
}
