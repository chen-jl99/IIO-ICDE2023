{
 "cells": [
  {
   "cell_type": "code",
   "execution_count": 1,
   "id": "13e12a53-9f6d-4524-9ee6-fd877f7fa49f",
   "metadata": {},
   "outputs": [],
   "source": [
    "import numpy as np\n",
    "import pandas as pd"
   ]
  },
  {
   "cell_type": "code",
   "execution_count": 2,
   "id": "0133d96d-fde3-42eb-bfa9-bfdf3afbafbd",
   "metadata": {},
   "outputs": [],
   "source": [
    "results_OPTIMAL = pd.read_csv('results/results_online_OPTIMAL.txt', header = None)\n",
    "results_SEP = pd.read_csv('results/results_online_SEP.txt', header = None)\n",
    "results_SHR = pd.read_csv('results/results_online_SHR.txt', header = None)\n",
    "results_SHR_CLUSTER = pd.read_csv('results/results_online_SHR_CLUSTER.txt', header = None)\n",
    "results_SHR_ROBUST = pd.read_csv('results/results_online_SHR_ROBUST.txt', header = None)\n",
    "results_SHR_FULL = pd.read_csv('results/results_online_SHR_FULL.txt', header = None)"
   ]
  },
  {
   "cell_type": "code",
   "execution_count": 3,
   "id": "cdc6ea34-2519-4b80-8700-292b7f977bb9",
   "metadata": {},
   "outputs": [
    {
     "name": "stdout",
     "output_type": "stream",
     "text": [
      "SEP (passenger percentage 0) 141.50117123018566\n",
      "SEP (passenger percentage 0.2) 144.25673601088403\n",
      "SEP (passenger percentage 0.4) 145.89880226551236\n",
      "SEP (passenger percentage 0.6) 147.70499471985707\n",
      "SEP (passenger percentage 0.8) 149.50910627903423\n",
      "SEP (passenger percentage 1) 151.109635955624\n",
      "SHR 165.52452023255245\n",
      "SHR-CLUSTER 170.60668644808143\n",
      "SHR-ROBUST 166.47045006429335\n",
      "SHR-FULL 170.81162321503984\n"
     ]
    }
   ],
   "source": [
    "# compare the objective functions\n",
    "\n",
    "for passenger_percentage in [0, 0.2, 0.4, 0.6, 0.8, 1]:\n",
    "    print(f'SEP (passenger percentage {passenger_percentage})', np.mean(results_SEP[results_SEP[2]==passenger_percentage][3]))\n",
    "    \n",
    "print('SHR', np.mean(results_SHR[2]))\n",
    "print('SHR-CLUSTER', np.mean(results_SHR_CLUSTER[2]))\n",
    "print('SHR-ROBUST', np.mean(results_SHR_ROBUST[2]))\n",
    "print('SHR-FULL', np.mean(results_SHR_FULL[2]))"
   ]
  },
  {
   "cell_type": "code",
   "execution_count": 4,
   "id": "20112ffd-e390-4af3-8851-ca37e9ddb73f",
   "metadata": {},
   "outputs": [
    {
     "name": "stdout",
     "output_type": "stream",
     "text": [
      "SHR 0.1149669723816535\n",
      "SHR-CLUSTER 0.08779574250842588\n",
      "SHR-ROBUST 0.10991172749524573\n",
      "SHR-FULL 0.08669798441216173\n"
     ]
    }
   ],
   "source": [
    "# compare the decision error\n",
    "\n",
    "print('SHR', np.mean(1-results_SHR[2]/results_OPTIMAL[2]))\n",
    "print('SHR-CLUSTER', np.mean(1-results_SHR_CLUSTER[2]/results_OPTIMAL[2]))\n",
    "print('SHR-ROBUST', np.mean(1-results_SHR_ROBUST[2]/results_OPTIMAL[2]))\n",
    "print('SHR-FULL', np.mean(1-results_SHR_FULL[2]/results_OPTIMAL[2]))"
   ]
  },
  {
   "cell_type": "code",
   "execution_count": 5,
   "id": "4a3ff7fe-c73a-4674-aabd-b909d52f9d6d",
   "metadata": {},
   "outputs": [
    {
     "name": "stdout",
     "output_type": "stream",
     "text": [
      "SHR 0.5509000000000001\n",
      "SHR-CLUSTER 0.9279\n",
      "SHR-ROBUST 0.6074\n",
      "SHR-FULL 0.9773999999999999\n"
     ]
    }
   ],
   "source": [
    "# compare the coverage percentage\n",
    "\n",
    "print('SHR', np.mean(results_SHR[3]))\n",
    "print('SHR-CLUSTER', np.mean(results_SHR_CLUSTER[3]))\n",
    "print('SHR-ROBUST', np.mean(results_SHR_ROBUST[3]))\n",
    "print('SHR-FULL', np.mean(results_SHR_FULL[3]))"
   ]
  }
 ],
 "metadata": {
  "kernelspec": {
   "display_name": "Python 3",
   "language": "python",
   "name": "python3"
  },
  "language_info": {
   "codemirror_mode": {
    "name": "ipython",
    "version": 3
   },
   "file_extension": ".py",
   "mimetype": "text/x-python",
   "name": "python",
   "nbconvert_exporter": "python",
   "pygments_lexer": "ipython3",
   "version": "3.6.13"
  }
 },
 "nbformat": 4,
 "nbformat_minor": 5
}
