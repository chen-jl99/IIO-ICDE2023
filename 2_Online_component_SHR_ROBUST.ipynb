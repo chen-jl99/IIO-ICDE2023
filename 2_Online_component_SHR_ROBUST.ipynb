{
 "cells": [
  {
   "cell_type": "code",
   "execution_count": 1,
   "id": "7082785e-cff5-4ef2-80ce-8e9fa3a3bcc9",
   "metadata": {
    "executionInfo": {
     "elapsed": 528,
     "status": "ok",
     "timestamp": 1653877674146,
     "user": {
      "displayName": "Junlin Chen",
      "userId": "04548097444605488042"
     },
     "user_tz": -480
    },
    "id": "7082785e-cff5-4ef2-80ce-8e9fa3a3bcc9"
   },
   "outputs": [],
   "source": [
    "import numpy as np\n",
    "import pandas as pd\n",
    "import math\n",
    "import random\n",
    "import csv\n",
    "\n",
    "import pickle\n",
    "\n",
    "from params import *\n",
    "from functions import *"
   ]
  },
  {
   "cell_type": "code",
   "execution_count": 2,
   "id": "51dd5e48-246e-4e7f-a1a9-e1bc8541c06e",
   "metadata": {},
   "outputs": [],
   "source": [
    "f = open('results/results_online_SHR_ROBUST.txt', 'w+')\n",
    "\n",
    "for SEED in range(0,10):\n",
    "\n",
    "    set_seed(SEED)\n",
    "    data_incoming = pd.read_pickle(f'data/data_incoming_{SEED}.pickle')\n",
    "    lambda_h = pickle.load(open(f'results/results_offline_SHR_ROBUST_{SEED}.pickle','rb'))\n",
    "\n",
    "    delta_objective_function_true_total = 0\n",
    "    \n",
    "    # track the remaining budget\n",
    "    remaining_budget = B\n",
    "    \n",
    "    n = 0\n",
    "\n",
    "    while True:\n",
    "        \n",
    "        if (n >= len(data_incoming)):\n",
    "            break\n",
    "\n",
    "        fare = data_incoming.loc[n, 'fare']\n",
    "        compensation = data_incoming.loc[n, 'compensation']\n",
    "        \n",
    "        if (fare*passenger_incentive_list[1] > remaining_budget and compensation*driver_incentive_list[1] > remaining_budget):\n",
    "            break\n",
    "        \n",
    "        l_best = -np.inf\n",
    "        i_best = 0\n",
    "        j_best = 0\n",
    "\n",
    "        for i in range(0, len(passenger_incentive_list)):\n",
    "            for j in range(0, len(driver_incentive_list)):\n",
    "                \n",
    "                pred_prob = data_incoming.loc[n, f'pred_prob_{i}_{j}']\n",
    "                    \n",
    "                if (fare*passenger_incentive_list[i]+compensation*driver_incentive_list[j] <= remaining_budget and fare*(1-passenger_incentive_list[i]) > compensation*(1+driver_incentive_list[j])):\n",
    "                    l_current = (pred_prob-r) - lambda_h*(pred_prob+r)*(fare*passenger_incentive_list[i]+compensation*driver_incentive_list[j])\n",
    "                    if (l_current > l_best):\n",
    "                        l_best = l_current\n",
    "                        i_best = i\n",
    "                        j_best = j\n",
    "            \n",
    "        delta_objective_function_true_total += data_incoming.loc[n, f'true_prob_{i_best}_{j_best}'] - data_incoming.loc[n, f'true_prob_0_0']\n",
    "        remaining_budget -= data_incoming.loc[n, f'true_prob_{i_best}_{j_best}'] * (fare*passenger_incentive_list[i_best]+compensation*driver_incentive_list[j_best])\n",
    "        \n",
    "        n += 1\n",
    "    \n",
    "    f.write(f'{SEED}, SHR-ROBUST, {delta_objective_function_true_total}, {n}\\n')\n",
    "    \n",
    "f.close()"
   ]
  }
 ],
 "metadata": {
  "colab": {
   "collapsed_sections": [],
   "name": "All_demo_direct_0530_deg.ipynb",
   "provenance": [
    {
     "file_id": "1m9oOZ2Mf3R2AwJrsCPG_PpvGkhuDdBhP",
     "timestamp": 1653115203881
    }
   ]
  },
  "kernelspec": {
   "display_name": "Python 3",
   "language": "python",
   "name": "python3"
  },
  "language_info": {
   "codemirror_mode": {
    "name": "ipython",
    "version": 3
   },
   "file_extension": ".py",
   "mimetype": "text/x-python",
   "name": "python",
   "nbconvert_exporter": "python",
   "pygments_lexer": "ipython3",
   "version": "3.6.13"
  }
 },
 "nbformat": 4,
 "nbformat_minor": 5
}
