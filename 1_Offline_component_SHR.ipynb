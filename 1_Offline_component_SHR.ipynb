{
 "cells": [
  {
   "cell_type": "code",
   "execution_count": null,
   "id": "7082785e-cff5-4ef2-80ce-8e9fa3a3bcc9",
   "metadata": {
    "executionInfo": {
     "elapsed": 528,
     "status": "ok",
     "timestamp": 1653877674146,
     "user": {
      "displayName": "Junlin Chen",
      "userId": "04548097444605488042"
     },
     "user_tz": -480
    },
    "id": "7082785e-cff5-4ef2-80ce-8e9fa3a3bcc9"
   },
   "outputs": [],
   "source": [
    "import numpy as np\n",
    "import pandas as pd\n",
    "import math\n",
    "import random\n",
    "import csv\n",
    "\n",
    "import pickle\n",
    "\n",
    "from params import *\n",
    "from functions import *\n",
    "\n",
    "import os\n",
    "os.makedirs('results/', exist_ok = True) "
   ]
  },
  {
   "cell_type": "code",
   "execution_count": null,
   "id": "51dd5e48-246e-4e7f-a1a9-e1bc8541c06e",
   "metadata": {},
   "outputs": [],
   "source": [
    "for SEED in range(0,10):\n",
    "\n",
    "    set_seed(SEED)\n",
    "    data_hist = pd.read_pickle(f'data/data_hist_{SEED}.pickle')\n",
    "\n",
    "    pred_prob_original = np.zeros((N_hist,len(passenger_incentive_list),len(driver_incentive_list)))\n",
    "    fare_list = np.zeros(N_hist)\n",
    "    compensation_list = np.zeros(N_hist)\n",
    "\n",
    "    for n in range(0,N_hist):\n",
    "\n",
    "        fare_list[n] = data_hist.loc[n, 'fare']\n",
    "        compensation_list[n] = data_hist.loc[n, 'compensation']\n",
    "\n",
    "        for i in range(0, len(passenger_incentive_list)):\n",
    "            for j in range(0, len(driver_incentive_list)):\n",
    "                pred_prob_original[n,i,j] = data_hist.loc[n, f'pred_prob_{i}_{j}']\n",
    "\n",
    "    lambda_h = solve_largrange_multiplier(N_hist, pred_prob_original, fare_list, compensation_list, passenger_incentive_list, driver_incentive_list, B=B_hist, r=0)\n",
    "    print('Seed', SEED, 'Multiplier', lambda_h)\n",
    "    pickle.dump(lambda_h, open(f'results/results_offline_SHR_{SEED}.pickle', 'wb'))"
   ]
  }
 ],
 "metadata": {
  "colab": {
   "collapsed_sections": [],
   "name": "All_demo_direct_0530_deg.ipynb",
   "provenance": [
    {
     "file_id": "1m9oOZ2Mf3R2AwJrsCPG_PpvGkhuDdBhP",
     "timestamp": 1653115203881
    }
   ]
  },
  "kernelspec": {
   "display_name": "Python 3",
   "language": "python",
   "name": "python3"
  },
  "language_info": {
   "codemirror_mode": {
    "name": "ipython",
    "version": 3
   },
   "file_extension": ".py",
   "mimetype": "text/x-python",
   "name": "python",
   "nbconvert_exporter": "python",
   "pygments_lexer": "ipython3",
   "version": "3.6.13"
  }
 },
 "nbformat": 4,
 "nbformat_minor": 5
}
